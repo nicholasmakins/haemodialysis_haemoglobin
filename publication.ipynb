{
 "cells": [
  {
   "cell_type": "code",
   "execution_count": null,
   "id": "9c5b46a1-9f6e-4cc0-835b-552ae4db5556",
   "metadata": {},
   "outputs": [],
   "source": [
    "import pandas as pd\nimport numpy as np\nimport matplotlib.pyplot as plt\nimport seaborn as sns\nimport math\nfrom scipy.stats import ttest_ind,shapiro,ttest_rel,spearmanr,pearsonr,wilcoxon,chi2_contingency\n\npd.set_option('display.max_columns', None)"
   ]
  },
  {
   "cell_type": "code",
   "execution_count": null,
   "id": "7f974b1e-b34c-484f-b93b-1c8338aa8f59",
   "metadata": {
    "scrolled": true
   },
   "outputs": [],
   "source": [
    "df = pd.read_excel(\n    '..[PATH]\n    index_col=0,\n    na_values=['#VALUE!', 'Not Done', 'Not done']\n)"
   ]
  },
  {
   "cell_type": "code",
   "execution_count": null,
   "id": "7ed1b879-329b-4395-bb05-7569051efe19",
   "metadata": {},
   "outputs": [],
   "source": [
    "df.drop(['Name of Patient','Study Number'],axis=1,inplace=True)"
   ]
  },
  {
   "cell_type": "code",
   "execution_count": null,
   "id": "a97e0b04",
   "metadata": {},
   "outputs": [],
   "source": []
  },
  {
   "cell_type": "code",
   "execution_count": null,
   "id": "c478ceed-9dae-4dd5-be80-18262c75c2f4",
   "metadata": {},
   "outputs": [],
   "source": [
    "df.head()"
   ]
  },
  {
   "cell_type": "code",
   "execution_count": null,
   "id": "461f51a1",
   "metadata": {},
   "outputs": [],
   "source": [
    "df[\"Hb Pre-HD (g/dL)\"] = pd.to_numeric(df[\"Hb Pre-HD (g/dL)\"], errors=\"coerce\")\ndf[\"Hb Post-HD (g/dL)\"] = pd.to_numeric(df[\"Hb Post-HD (g/dL)\"], errors=\"coerce\")\ndf[\"Dry Weight (Kgs)\"] = pd.to_numeric(df[\"Dry Weight (Kgs)\"], errors=\"coerce\")\ndf[\"Pre-HD Weight (Kgs)\"] = pd.to_numeric(df[\"Pre-HD Weight (Kgs)\"], errors=\"coerce\")\ndf[\"Post-HD Weight (Kgs)\"] = pd.to_numeric(df[\"Post-HD Weight (Kgs)\"], errors=\"coerce\")\ndf['Current Erythropoietin Dose Per Week (IU)'] = pd.to_numeric(df['Current Erythropoietin Dose Per Week (IU)'], errors=\"coerce\")\ndf['New EPO dose based on Hb pre HD'] = pd.to_numeric(df['New EPO dose based on Hb pre HD'], errors=\"coerce\")\ndf[\"New EPO dose based on HB post HD\"] = pd.to_numeric(df[\"New EPO dose based on HB post HD\"], errors=\"coerce\")\n"
   ]
  },
  {
   "cell_type": "code",
   "execution_count": null,
   "id": "036f5dc2-7249-4856-a613-263e8c85c7ec",
   "metadata": {},
   "outputs": [],
   "source": [
    "df['Difference in Weight (Kgs) Pre and Post Dialysis'] = df['Pre-HD Weight (Kgs)'] - df['Post-HD Weight (Kgs)']\ndf['Difference in HB Pre and Post Dialysis'] = df['Hb Post-HD (g/dL)'] - df['Hb Pre-HD (g/dL)']"
   ]
  },
  {
   "cell_type": "code",
   "execution_count": null,
   "id": "7154e54e-9509-49ca-a9b3-70a343617c6c",
   "metadata": {},
   "outputs": [],
   "source": [
    "df[df['Difference in Weight (Kgs) Pre and Post Dialysis'].isnull()]"
   ]
  },
  {
   "cell_type": "code",
   "execution_count": null,
   "id": "aa048f13-636a-4d97-a0b7-80696143c0cc",
   "metadata": {},
   "outputs": [],
   "source": [
    "df[df['Difference in HB Pre and Post Dialysis'].isnull()]"
   ]
  },
  {
   "cell_type": "code",
   "execution_count": null,
   "id": "a54eaf8a-c445-486f-98e9-9e8624ca67aa",
   "metadata": {},
   "outputs": [],
   "source": [
    "df.dropna(subset=['Difference in Weight (Kgs) Pre and Post Dialysis','Difference in HB Pre and Post Dialysis'],axis=0,inplace=True)"
   ]
  },
  {
   "cell_type": "code",
   "execution_count": null,
   "id": "dba81f84-0354-4952-bead-1578dfe636dd",
   "metadata": {},
   "outputs": [],
   "source": [
    "#Checking for missed null values\ndf[df['Difference in Weight (Kgs) Pre and Post Dialysis'].isnull()]"
   ]
  },
  {
   "cell_type": "code",
   "execution_count": null,
   "id": "c7f02b0e-82c0-4694-88d5-efa751ea4803",
   "metadata": {},
   "outputs": [],
   "source": [
    "#Checking for missed null values\ndf[df['Difference in HB Pre and Post Dialysis'].isnull()]"
   ]
  },
  {
   "cell_type": "code",
   "execution_count": null,
   "id": "c04372fe-bf42-40be-8db8-28dbd3ce7cc8",
   "metadata": {},
   "outputs": [],
   "source": [
    "df.info()"
   ]
  },
  {
   "cell_type": "code",
   "execution_count": null,
   "id": "2fc6bc38-c079-49fe-9734-6749c0e63232",
   "metadata": {},
   "outputs": [],
   "source": []
  },
  {
   "cell_type": "code",
   "execution_count": null,
   "id": "824c76f3-3a36-49ad-bfa8-01f811864adf",
   "metadata": {},
   "outputs": [],
   "source": [
    "df['Age'].describe()"
   ]
  },
  {
   "cell_type": "code",
   "execution_count": null,
   "id": "67936305-dfc9-42ae-b950-79dd1da687ed",
   "metadata": {},
   "outputs": [],
   "source": [
    "df['Sex'].value_counts()"
   ]
  },
  {
   "cell_type": "code",
   "execution_count": null,
   "id": "7a7574ec-e85f-40e8-834c-f1e4ba85c886",
   "metadata": {},
   "outputs": [],
   "source": [
    "df['Ethnicity'].value_counts()"
   ]
  },
  {
   "cell_type": "code",
   "execution_count": null,
   "id": "016ea973-21fd-457a-a9b7-58c4fb000bdc",
   "metadata": {},
   "outputs": [],
   "source": [
    "df['Year of HD initiation'].describe()"
   ]
  },
  {
   "cell_type": "code",
   "execution_count": null,
   "id": "c31c577d-1652-497e-88db-00753f06f59e",
   "metadata": {},
   "outputs": [],
   "source": [
    "df['Duration on HD programme'] = 2023 - df['Year of HD initiation']"
   ]
  },
  {
   "cell_type": "code",
   "execution_count": null,
   "id": "2c29068e-1acf-4def-a43f-2e3928589c6b",
   "metadata": {},
   "outputs": [],
   "source": [
    "df['Duration on HD programme'].describe()"
   ]
  },
  {
   "cell_type": "code",
   "execution_count": null,
   "id": "029d54dc-b913-41db-b1c1-5e4febb2ca58",
   "metadata": {},
   "outputs": [],
   "source": [
    "df['Dry Weight (Kgs)'].describe()"
   ]
  },
  {
   "cell_type": "code",
   "execution_count": null,
   "id": "a84c437a-e986-4c66-b2b2-3d5dd16a58e8",
   "metadata": {},
   "outputs": [],
   "source": []
  },
  {
   "cell_type": "code",
   "execution_count": null,
   "id": "5bd05c1f-4128-4921-b65e-5e2825860cb2",
   "metadata": {},
   "outputs": [],
   "source": [
    "df['Pre-HD Weight (Kgs)'].describe()"
   ]
  },
  {
   "cell_type": "code",
   "execution_count": null,
   "id": "d8f3e415-13a0-4ce1-a4bc-6419e2e0610a",
   "metadata": {},
   "outputs": [],
   "source": [
    "df['Post-HD Weight (Kgs)'].describe()"
   ]
  },
  {
   "cell_type": "code",
   "execution_count": null,
   "id": "9d1a14d4-e8b3-42e6-aa28-b2c96e0fd240",
   "metadata": {},
   "outputs": [],
   "source": []
  },
  {
   "cell_type": "code",
   "execution_count": null,
   "id": "43e47060-a536-4126-87e8-6181d37fa00e",
   "metadata": {},
   "outputs": [],
   "source": []
  },
  {
   "cell_type": "code",
   "execution_count": null,
   "id": "72aafd8f-c73a-47cd-a3b6-93547e66fa05",
   "metadata": {},
   "outputs": [],
   "source": [
    "df['Difference in Weight (Kgs) Pre and Post Dialysis'].describe()"
   ]
  },
  {
   "cell_type": "code",
   "execution_count": null,
   "id": "fe0f5f07-d3c3-48b9-8372-a250548d4ae0",
   "metadata": {},
   "outputs": [],
   "source": [
    "plt.hist(x=df['Age'],bins=50,edgecolor = \"black\")\n#plt.xlim(0,100)\nplt.ylabel('Count')\nplt.xlabel('Age (years)')\n#plt.title('Histogram of the distribution of ages for the whole sample')\n"
   ]
  },
  {
   "cell_type": "code",
   "execution_count": null,
   "id": "f39d0ed7-dc57-4965-961b-cbb056b42dd7",
   "metadata": {},
   "outputs": [],
   "source": [
    "def weight_change_percentage(difference,dry):\n    return difference/dry"
   ]
  },
  {
   "cell_type": "code",
   "execution_count": null,
   "id": "07dad7c1-17ca-4ae7-ab6d-ada78414bed7",
   "metadata": {},
   "outputs": [],
   "source": [
    "df['Percentage change in weight'] = (df['Difference in Weight (Kgs) Pre and Post Dialysis']/df[\"Dry Weight (Kgs)\"])*100"
   ]
  },
  {
   "cell_type": "code",
   "execution_count": null,
   "id": "b7e780fd-ebb1-405f-958d-2137bcb9cac2",
   "metadata": {},
   "outputs": [],
   "source": [
    "def percentage_change_in_weight_group(value):\n    if value <2.5:\n        return '<2,5'\n    elif value >=2.5 and value<5:\n        return \"2,5-4.9\"\n    elif value >=5:\n        return \">=5\"\n    elif value == 'NaN':\n        return 'NaN'"
   ]
  },
  {
   "cell_type": "code",
   "execution_count": null,
   "id": "5d8f97f6-8639-415a-8681-2a266316db36",
   "metadata": {},
   "outputs": [],
   "source": [
    "df['Grouped interdialytic weight change percentage'] = df['Percentage change in weight'].apply(lambda x: percentage_change_in_weight_group(x))"
   ]
  },
  {
   "cell_type": "code",
   "execution_count": null,
   "id": "b8a4b914-165c-4fbb-8686-8ece6878bde8",
   "metadata": {},
   "outputs": [],
   "source": [
    "df['Grouped interdialytic weight change percentage'].value_counts()"
   ]
  },
  {
   "cell_type": "code",
   "execution_count": null,
   "id": "55066018-3fa0-44d9-ab45-9f7d067277d7",
   "metadata": {},
   "outputs": [],
   "source": [
    "df['Percentage change in weight'].describe()"
   ]
  },
  {
   "cell_type": "code",
   "execution_count": null,
   "id": "56b54bc6-e140-456a-94f5-200264d53eb7",
   "metadata": {},
   "outputs": [],
   "source": [
    "sns.histplot(df['Percentage change in weight'],bins=100,kde=True)\n"
   ]
  },
  {
   "cell_type": "code",
   "execution_count": null,
   "id": "e5819647-c13d-4996-8a09-c290abd86cad",
   "metadata": {},
   "outputs": [],
   "source": [
    "sns.histplot(df['Difference in Weight (Kgs) Pre and Post Dialysis'],bins=100,kde=True)"
   ]
  },
  {
   "cell_type": "code",
   "execution_count": null,
   "id": "8902b9bc-8515-4f70-a588-72cb07f5e7fc",
   "metadata": {},
   "outputs": [],
   "source": [
    "sns.boxplot(df['Difference in Weight (Kgs) Pre and Post Dialysis'],orient='h')\n"
   ]
  },
  {
   "cell_type": "code",
   "execution_count": null,
   "id": "11ec735f-99ba-4ecc-bbdf-71e507ee522e",
   "metadata": {},
   "outputs": [],
   "source": [
    "sns.boxplot(df['Percentage change in weight'],orient='h')"
   ]
  },
  {
   "cell_type": "code",
   "execution_count": null,
   "id": "e5c5fa46-6834-4e70-9402-597e02674b87",
   "metadata": {},
   "outputs": [],
   "source": [
    "#error checking for any values below 0\ndf[df['Difference in Weight (Kgs) Pre and Post Dialysis']<0]"
   ]
  },
  {
   "cell_type": "code",
   "execution_count": null,
   "id": "bf9d48eb-4f37-475f-8d61-79b5dbc67e28",
   "metadata": {},
   "outputs": [],
   "source": [
    "df['Hb Pre-HD (g/dL)'].describe()"
   ]
  },
  {
   "cell_type": "code",
   "execution_count": null,
   "id": "80fbff3d-eb2d-4b5f-a92d-9dbe457b9c54",
   "metadata": {},
   "outputs": [],
   "source": [
    "df['Hb Post-HD (g/dL)'].describe()"
   ]
  },
  {
   "cell_type": "code",
   "execution_count": null,
   "id": "ae1324d7-4464-4650-b132-8a570ca2931e",
   "metadata": {},
   "outputs": [],
   "source": [
    "df['Difference in HB Pre and Post Dialysis'].describe()"
   ]
  },
  {
   "cell_type": "code",
   "execution_count": null,
   "id": "ca79b464",
   "metadata": {},
   "outputs": [],
   "source": [
    "df['Percentage change in Hb'] = (df['Difference in HB Pre and Post Dialysis'][PATH]\ndf['Percentage change in Hb'].describe()"
   ]
  },
  {
   "cell_type": "code",
   "execution_count": null,
   "id": "9fd301a9",
   "metadata": {},
   "outputs": [],
   "source": [
    "def percentage_change_in_Hb_group(value):\n    if value <10:\n        return '<10'\n    elif value >=10 and value<=11.5:\n        return \"10-11.5\"\n    elif value >11.5:\n        return \">11.5\"\n    elif value == 'NaN':\n        return 'NaN'"
   ]
  },
  {
   "cell_type": "code",
   "execution_count": null,
   "id": "df87dd66",
   "metadata": {},
   "outputs": [],
   "source": [
    "df['Hb group pre HD'] = df['Hb Pre-HD (g/dL)'].apply(lambda x: percentage_change_in_Hb_group(x))\ndf['Hb group pre HD'].value_counts()    \n"
   ]
  },
  {
   "cell_type": "code",
   "execution_count": null,
   "id": "5a0778f6",
   "metadata": {},
   "outputs": [],
   "source": [
    "df['Hb group pre HD'].value_counts(normalize=True) * 100"
   ]
  },
  {
   "cell_type": "code",
   "execution_count": null,
   "id": "e4572917",
   "metadata": {},
   "outputs": [],
   "source": [
    "df['Hb group post HD'] = df['Hb Post-HD (g/dL)'].apply(lambda x: percentage_change_in_Hb_group(x))\ndf['Hb group post HD'].value_counts()"
   ]
  },
  {
   "cell_type": "code",
   "execution_count": null,
   "id": "1fb96937",
   "metadata": {},
   "outputs": [],
   "source": [
    "df['Hb group post HD'].value_counts(normalize=True) * 100"
   ]
  },
  {
   "cell_type": "code",
   "execution_count": null,
   "id": "93d40926",
   "metadata": {},
   "outputs": [],
   "source": [
    "sns.histplot(df['Percentage change in Hb'],bins=50)"
   ]
  },
  {
   "cell_type": "code",
   "execution_count": null,
   "id": "27b1a9d9-f928-48dd-a7b6-c0aeb2c8a5d6",
   "metadata": {},
   "outputs": [],
   "source": [
    "sns.histplot(df['Difference in HB Pre and Post Dialysis'],bins=50)"
   ]
  },
  {
   "cell_type": "code",
   "execution_count": null,
   "id": "66fb8f03-b00c-4854-b4ca-b9253f51364d",
   "metadata": {},
   "outputs": [],
   "source": [
    "sns.histplot(df['Hb Pre-HD (g/dL)'],bins=50,label='Pre-HD Hb',kde=True)\nsns.histplot(df['Hb Post-HD (g/dL)'],bins=50,label='Post-HD Hb',kde=True)\nplt.legend()\nplt.xlabel('Hb')"
   ]
  },
  {
   "cell_type": "code",
   "execution_count": null,
   "id": "cd5a0f1c-1346-4c36-aa7f-a71687867677",
   "metadata": {},
   "outputs": [],
   "source": [
    "sns.kdeplot(df['Hb Pre-HD (g/dL)'],label='Pre-HD Hb')\nsns.kdeplot(df['Hb Post-HD (g/dL)'],label='Post-HD Hb')\nplt.legend()\nplt.xlabel('Hb')\nplt.savefig('kde_hb_pre_post.png')"
   ]
  },
  {
   "cell_type": "code",
   "execution_count": null,
   "id": "988614ec-b0cb-4ab8-b8b7-dd41ae807728",
   "metadata": {},
   "outputs": [],
   "source": [
    "df['Current Erythropoietin Dose Per Week (IU)'].describe()"
   ]
  },
  {
   "cell_type": "code",
   "execution_count": null,
   "id": "74b3a248-5be6-402c-8f10-5290a93f6632",
   "metadata": {},
   "outputs": [],
   "source": [
    "sns.boxplot(df['Difference in HB Pre and Post Dialysis'],orient='h')"
   ]
  },
  {
   "cell_type": "code",
   "execution_count": null,
   "id": "c314b8ae-8036-4808-9a01-cb9e2f63ff45",
   "metadata": {},
   "outputs": [],
   "source": [
    "#testing for normality"
   ]
  },
  {
   "cell_type": "code",
   "execution_count": null,
   "id": "28f3ab6a-9dc6-40f6-8c5c-e4fc0600d23b",
   "metadata": {},
   "outputs": [],
   "source": [
    "def test_for_normality(column):\n    test_for_norm = df[column]\n    test_for_norm = test_for_norm.dropna()\n    test_for_norm = np.array(test_for_norm)\n    result = shapiro(test_for_norm)\n    return result"
   ]
  },
  {
   "cell_type": "code",
   "execution_count": null,
   "id": "fda0bb2a-c53d-4b6a-a2af-c2f524e81ec8",
   "metadata": {},
   "outputs": [],
   "source": [
    "test_for_normality('Difference in Weight (Kgs) Pre and Post Dialysis')"
   ]
  },
  {
   "cell_type": "code",
   "execution_count": null,
   "id": "4d45c531-1b2e-4739-ba4b-92b59fc69ac5",
   "metadata": {},
   "outputs": [],
   "source": [
    "test_for_normality('Difference in HB Pre and Post Dialysis')"
   ]
  },
  {
   "cell_type": "code",
   "execution_count": null,
   "id": "13648f17-e069-492d-a3ec-114e3b5a583a",
   "metadata": {},
   "outputs": [],
   "source": [
    "test_for_normality('Hb Post-HD (g/dL)')"
   ]
  },
  {
   "cell_type": "code",
   "execution_count": null,
   "id": "c33a8b25-e1af-4a0b-ad53-c07f5e6ffab1",
   "metadata": {},
   "outputs": [],
   "source": [
    "test_for_normality('Hb Pre-HD (g/dL)')"
   ]
  },
  {
   "cell_type": "code",
   "execution_count": null,
   "id": "ba0bb233-3d8b-46d0-9900-5fd21566e663",
   "metadata": {},
   "outputs": [],
   "source": [
    "test_for_normality('Pre-HD Weight (Kgs)')"
   ]
  },
  {
   "cell_type": "code",
   "execution_count": null,
   "id": "b9729f00-da00-43cc-8416-5a5fd5b6284b",
   "metadata": {},
   "outputs": [],
   "source": [
    "test_for_normality('Post-HD Weight (Kgs)')"
   ]
  },
  {
   "cell_type": "code",
   "execution_count": null,
   "id": "7b665d7e-cd02-4b59-a7e5-140d7a5648b5",
   "metadata": {},
   "outputs": [],
   "source": [
    "test_for_normality('Percentage change in weight')"
   ]
  },
  {
   "cell_type": "code",
   "execution_count": null,
   "id": "b4ffc204-3054-485f-ad22-d84141a1c53e",
   "metadata": {},
   "outputs": [],
   "source": [
    "test_for_normality(\"Age\")"
   ]
  },
  {
   "cell_type": "code",
   "execution_count": null,
   "id": "04ab54ba-de2f-4b2e-91b6-bf614cc6594b",
   "metadata": {},
   "outputs": [],
   "source": [
    "test_for_normality(\"Year of HD initiation\")"
   ]
  },
  {
   "cell_type": "code",
   "execution_count": null,
   "id": "a7697886-b3de-4bb0-8c08-a4697604a451",
   "metadata": {},
   "outputs": [],
   "source": [
    "test_for_normality(\"Dry Weight (Kgs)\")"
   ]
  },
  {
   "cell_type": "code",
   "execution_count": null,
   "id": "128cdae2-d39d-47eb-a71c-b25e4bb031ed",
   "metadata": {},
   "outputs": [],
   "source": [
    "test_for_normality('Pre-HD Weight (Kgs)')"
   ]
  },
  {
   "cell_type": "code",
   "execution_count": null,
   "id": "cb71138e-f819-4926-aa99-e88923a46861",
   "metadata": {},
   "outputs": [],
   "source": [
    "test_for_normality('Post-HD Weight (Kgs)')"
   ]
  },
  {
   "cell_type": "code",
   "execution_count": null,
   "id": "b139234d-3069-4a13-955a-24e474d1a210",
   "metadata": {},
   "outputs": [],
   "source": [
    "test_for_normality('Percentage change in weight')"
   ]
  },
  {
   "cell_type": "code",
   "execution_count": null,
   "id": "2f0d055f-c90c-4270-bf4d-34031f3494b2",
   "metadata": {},
   "outputs": [],
   "source": []
  },
  {
   "cell_type": "code",
   "execution_count": null,
   "id": "ce289047-94a4-4290-bc3f-e99a313ce013",
   "metadata": {},
   "outputs": [],
   "source": []
  },
  {
   "cell_type": "code",
   "execution_count": null,
   "id": "94afd618-cd5f-4aed-a3e8-c78e6dadce3c",
   "metadata": {},
   "outputs": [],
   "source": []
  },
  {
   "cell_type": "code",
   "execution_count": null,
   "id": "adad4d6e-2413-4b33-95e9-d4e70462e185",
   "metadata": {},
   "outputs": [],
   "source": [
    "#comparing averages using t-test (Welch)"
   ]
  },
  {
   "cell_type": "code",
   "execution_count": null,
   "id": "28f558fc-63df-41bd-b517-010ff59cb331",
   "metadata": {},
   "outputs": [],
   "source": [
    "ttest_ind(a=df['Pre-HD Weight (Kgs)'],b=df['Post-HD Weight (Kgs)'],equal_var=False,nan_policy='omit',alternative='greater')"
   ]
  },
  {
   "cell_type": "code",
   "execution_count": null,
   "id": "aa84cf2e-a902-4880-8944-385caeed9579",
   "metadata": {},
   "outputs": [],
   "source": [
    "ttest_ind(a=df['Hb Pre-HD (g/dL)'],b=df['Hb Post-HD (g/dL)'],equal_var=False,nan_policy='omit',alternative='less')"
   ]
  },
  {
   "cell_type": "code",
   "execution_count": null,
   "id": "eca51bb0-b438-4295-849d-f73b7de7fdae",
   "metadata": {},
   "outputs": [],
   "source": [
    "#paired t test"
   ]
  },
  {
   "cell_type": "code",
   "execution_count": null,
   "id": "2483d860-a13b-457c-b9c9-0e09e14d50c9",
   "metadata": {},
   "outputs": [],
   "source": [
    "ttest_rel(a=df['Pre-HD Weight (Kgs)'],b=df['Post-HD Weight (Kgs)'],nan_policy='omit',alternative='two-sided')"
   ]
  },
  {
   "cell_type": "code",
   "execution_count": null,
   "id": "bd1ab5eb-6eba-4953-bb42-54546d401a38",
   "metadata": {},
   "outputs": [],
   "source": [
    "ttest_rel(a=df['Hb Pre-HD (g/dL)'],b=df['Hb Post-HD (g/dL)'],nan_policy='omit',alternative='less')"
   ]
  },
  {
   "cell_type": "code",
   "execution_count": null,
   "id": "3df813a9-b81b-4849-ac09-326442336cc7",
   "metadata": {},
   "outputs": [],
   "source": [
    "spearmanr(a = df['Difference in Weight (Kgs) Pre and Post Dialysis'], b=df[\"Difference in HB Pre and Post Dialysis\"], nan_policy='omit', alternative='two-sided')"
   ]
  },
  {
   "cell_type": "code",
   "execution_count": null,
   "id": "b16fdad2-3187-41a8-9c17-f67419c0d3a0",
   "metadata": {},
   "outputs": [],
   "source": [
    "spearmanr(a = df['Percentage change in weight'], b=df[\"Difference in HB Pre and Post Dialysis\"], nan_policy='omit', alternative='two-sided')"
   ]
  },
  {
   "cell_type": "code",
   "execution_count": null,
   "id": "c67f749a-764b-42c9-a407-3632d30da553",
   "metadata": {},
   "outputs": [],
   "source": []
  },
  {
   "cell_type": "code",
   "execution_count": null,
   "id": "50c3bca2-fa90-40fc-86c5-ac87741d0312",
   "metadata": {},
   "outputs": [],
   "source": [
    "filtered_df = df.dropna(subset=['Difference in Weight (Kgs) Pre and Post Dialysis', 'Difference in HB Pre and Post Dialysis'])\n"
   ]
  },
  {
   "cell_type": "code",
   "execution_count": null,
   "id": "e8b4e586-a1a6-4dad-ad6d-4a2004b40217",
   "metadata": {},
   "outputs": [],
   "source": [
    "pearsonr(x=filtered_df['Difference in Weight (Kgs) Pre and Post Dialysis'], y=filtered_df[\"Difference in HB Pre and Post Dialysis\"])"
   ]
  },
  {
   "cell_type": "code",
   "execution_count": null,
   "id": "52588b2f-da93-45dd-83ff-f50778118ced",
   "metadata": {},
   "outputs": [],
   "source": []
  },
  {
   "cell_type": "code",
   "execution_count": null,
   "id": "c25f8805-2e91-4cfe-9595-2292d77bfd35",
   "metadata": {},
   "outputs": [],
   "source": []
  },
  {
   "cell_type": "code",
   "execution_count": null,
   "id": "428094c5-f3ec-4fd3-b894-f76bea436911",
   "metadata": {},
   "outputs": [],
   "source": []
  },
  {
   "cell_type": "code",
   "execution_count": null,
   "id": "12f01c87-4b18-4919-9e7e-6038de8cef1e",
   "metadata": {},
   "outputs": [],
   "source": []
  },
  {
   "cell_type": "code",
   "execution_count": null,
   "id": "ba87383f-6569-416d-9a6e-bdbb92e3558c",
   "metadata": {},
   "outputs": [],
   "source": []
  },
  {
   "cell_type": "code",
   "execution_count": null,
   "id": "59c925dc-99b0-4505-b97c-dc89a297340b",
   "metadata": {},
   "outputs": [],
   "source": []
  },
  {
   "cell_type": "code",
   "execution_count": null,
   "id": "8fafe70f-cdeb-47b7-a98e-81151d9bd11c",
   "metadata": {},
   "outputs": [],
   "source": []
  },
  {
   "cell_type": "code",
   "execution_count": null,
   "id": "80a17e72-1292-4ed7-83fe-52a7aa495d9e",
   "metadata": {},
   "outputs": [],
   "source": [
    "#df where all patients whose post_Hb value is in a different category to their pre dialysis Hb\n#changed_Hb_grouping_df = df[df['Post_Hb_value_interpretation'].notna() & (df['Pre_Hb_value_interpretation'] != df['Post_Hb_value_interpretation'])]"
   ]
  },
  {
   "cell_type": "code",
   "execution_count": null,
   "id": "1211618e-fe9e-4e4a-9b99-c4613fc86305",
   "metadata": {},
   "outputs": [],
   "source": []
  },
  {
   "cell_type": "code",
   "execution_count": null,
   "id": "80d09352-dbf4-4f36-99ed-6a9c82f26b06",
   "metadata": {},
   "outputs": [],
   "source": []
  },
  {
   "cell_type": "code",
   "execution_count": null,
   "id": "58bf03bf-fd09-4ede-a4f0-fefb4aa8b0ad",
   "metadata": {},
   "outputs": [],
   "source": []
  },
  {
   "cell_type": "code",
   "execution_count": null,
   "id": "93918963-353b-4b3b-b06d-b9e10fff3b12",
   "metadata": {},
   "outputs": [],
   "source": []
  },
  {
   "cell_type": "code",
   "execution_count": null,
   "id": "fdf1eead-0ccf-4911-9e34-e7ef6670a061",
   "metadata": {},
   "outputs": [],
   "source": [
    "#all patients whose initial Hb was below 9 and whose post Hb was in a different category and not a null value\n#df_esa_to_not_esa = df[(df['Pre_Hb_value_interpretation']=='ESA threshold')&(df['Post_Hb_value_interpretation']!='ESA threshold')&~(df['Post_Hb_value_interpretation'].isnull())]\n#print(df_esa_to_not_esa.head())"
   ]
  },
  {
   "cell_type": "code",
   "execution_count": null,
   "id": "000b7ae1-8214-480f-b4b0-d73a88bd4a9f",
   "metadata": {},
   "outputs": [],
   "source": [
    "df.groupby('Grouped interdialytic weight change percentage')['Difference in HB Pre and Post Dialysis'].describe()"
   ]
  },
  {
   "cell_type": "code",
   "execution_count": null,
   "id": "6bfb3215-f081-47f8-be24-38a23ee10956",
   "metadata": {},
   "outputs": [],
   "source": [
    "df.groupby('Grouped interdialytic weight change percentage')[['New EPO dose based on Hb pre HD',\"New EPO dose based on HB post HD\"]].describe()"
   ]
  },
  {
   "cell_type": "code",
   "execution_count": null,
   "id": "a12d8324-7248-4340-9634-ec6d80fafcb9",
   "metadata": {},
   "outputs": [],
   "source": [
    "df.groupby('Grouped interdialytic weight change percentage')[\"Current Erythropoietin Dose Per Week (IU)\"].describe()"
   ]
  },
  {
   "cell_type": "code",
   "execution_count": null,
   "id": "5e11bea0-3f07-4056-aa51-73a2b5d90b4e",
   "metadata": {},
   "outputs": [],
   "source": [
    "#pd.crosstab(df['Grouped interdialytic weight change percentage'],df['Pre_Hb_value_interpretation'])"
   ]
  },
  {
   "cell_type": "code",
   "execution_count": null,
   "id": "29c5f47a-a4a8-4ff5-9766-bed8bfb544de",
   "metadata": {},
   "outputs": [],
   "source": [
    "#pd.crosstab(df['Grouped interdialytic weight change percentage'],df['Post_Hb_value_interpretation'])"
   ]
  },
  {
   "cell_type": "code",
   "execution_count": null,
   "id": "2c54fc68-459b-42e1-8f7c-682bb53f38bb",
   "metadata": {},
   "outputs": [],
   "source": [
    "df.columns"
   ]
  },
  {
   "cell_type": "code",
   "execution_count": null,
   "id": "3d793137-1e11-4ea5-a6a2-b7f68b988b50",
   "metadata": {},
   "outputs": [],
   "source": [
    "#df.to_excel('Processed EPO data with new dosing.xlsx')"
   ]
  },
  {
   "cell_type": "code",
   "execution_count": null,
   "id": "e80ad654-b6fa-4706-a7d7-320149417945",
   "metadata": {},
   "outputs": [],
   "source": [
    "df['Current Erythropoietin Dose Per Week (IU)'].describe()"
   ]
  },
  {
   "cell_type": "code",
   "execution_count": null,
   "id": "60bde1f7-b904-4069-b645-6f4c70cf39da",
   "metadata": {},
   "outputs": [],
   "source": [
    "df['New EPO dose based on Hb pre HD'].describe()"
   ]
  },
  {
   "cell_type": "code",
   "execution_count": null,
   "id": "1115a437-41d9-4081-a7fc-a7bdb21e3e41",
   "metadata": {},
   "outputs": [],
   "source": [
    "df['New EPO dose based on HB post HD'].describe()"
   ]
  },
  {
   "cell_type": "code",
   "execution_count": null,
   "id": "a29cd3be",
   "metadata": {},
   "outputs": [],
   "source": []
  },
  {
   "cell_type": "code",
   "execution_count": null,
   "id": "3408cb6c",
   "metadata": {},
   "outputs": [],
   "source": []
  },
  {
   "cell_type": "code",
   "execution_count": null,
   "id": "90deef8d",
   "metadata": {},
   "outputs": [],
   "source": []
  },
  {
   "cell_type": "code",
   "execution_count": null,
   "id": "5180981b",
   "metadata": {},
   "outputs": [],
   "source": []
  },
  {
   "cell_type": "code",
   "execution_count": null,
   "id": "308309fc",
   "metadata": {},
   "outputs": [],
   "source": []
  },
  {
   "cell_type": "code",
   "execution_count": null,
   "id": "ffc625ed",
   "metadata": {},
   "outputs": [],
   "source": []
  },
  {
   "cell_type": "code",
   "execution_count": null,
   "id": "14a1f51a",
   "metadata": {},
   "outputs": [],
   "source": []
  },
  {
   "cell_type": "code",
   "execution_count": null,
   "id": "be95bbca-8b8f-407b-bb8a-b328e682a499",
   "metadata": {},
   "outputs": [],
   "source": [
    "test_for_normality('New EPO dose based on Hb pre HD')"
   ]
  },
  {
   "cell_type": "code",
   "execution_count": null,
   "id": "aefcfbe3-a362-4754-b575-e16b45ab0d29",
   "metadata": {},
   "outputs": [],
   "source": [
    "df['New EPO dose based on HB post HD'].describe()"
   ]
  },
  {
   "cell_type": "code",
   "execution_count": null,
   "id": "e00120bb-89fa-4b56-b9e4-90322817b664",
   "metadata": {},
   "outputs": [],
   "source": [
    "test_for_normality('New EPO dose based on HB post HD')"
   ]
  },
  {
   "cell_type": "code",
   "execution_count": null,
   "id": "26bed78a-6e19-40df-be53-ef090f1eeb5a",
   "metadata": {},
   "outputs": [],
   "source": [
    "wilcoxon(x=df['New EPO dose based on Hb pre HD'],y=df['New EPO dose based on HB post HD'],nan_policy='omit')"
   ]
  },
  {
   "cell_type": "code",
   "execution_count": null,
   "id": "9386403c-2fcc-4c02-ae11-009ae62ff16c",
   "metadata": {},
   "outputs": [],
   "source": [
    "ttest_rel(a=df['New EPO dose based on Hb pre HD'],b=df['New EPO dose based on HB post HD'],nan_policy='omit')"
   ]
  },
  {
   "cell_type": "code",
   "execution_count": null,
   "id": "fb811b30-fc23-42ff-9dea-71db2b386abc",
   "metadata": {},
   "outputs": [],
   "source": [
    "sns.histplot(df['Current Erythropoietin Dose Per Week (IU)'],label='Current EPO dose')\nsns.histplot(df['New EPO dose based on Hb pre HD'],label='Calculated EPO dose pre-HD')\nsns.histplot(df['New EPO dose based on HB post HD'],label='Calculated EPO dose post-HD')\nplt.legend()\nplt.xlabel('EPO dose (IU/week)')"
   ]
  },
  {
   "cell_type": "code",
   "execution_count": null,
   "id": "748e92be-9f30-4191-aeb4-1ccdc6a9a465",
   "metadata": {},
   "outputs": [],
   "source": [
    "sns.scatterplot(data=df,x=df['New EPO dose based on Hb pre HD'],y=df['New EPO dose based on HB post HD'])"
   ]
  },
  {
   "cell_type": "code",
   "execution_count": null,
   "id": "437f9145-c1fc-443c-a8f9-53e3eaa76f9a",
   "metadata": {},
   "outputs": [],
   "source": [
    "sns.histplot(df['Current Erythropoietin Dose Per Week (IU)'],label='Current EPO dose')"
   ]
  },
  {
   "cell_type": "code",
   "execution_count": null,
   "id": "c0063390-b7c8-448f-932e-e3ed01231d77",
   "metadata": {},
   "outputs": [],
   "source": [
    "sns.kdeplot(df['Current Erythropoietin Dose Per Week (IU)'],label='Current EPO dose',clip=(0,24000))\nsns.kdeplot(df['New EPO dose based on Hb pre HD'],label='Calculated EPO dose pre-HD',clip=(0,24000))\nsns.kdeplot(df['New EPO dose based on HB post HD'],label='Calculated EPO dose post-HD',clip=(0,24000))\nplt.legend()\nplt.xlabel('EPO dose (IU/week)')\n#plt.xlim(0,24000)\nplt.savefig('kde_EPO_dose_pre_post_current.png')"
   ]
  },
  {
   "cell_type": "code",
   "execution_count": null,
   "id": "ccf6c363-20a5-4b5f-b3b3-21f8248e786c",
   "metadata": {},
   "outputs": [],
   "source": []
  },
  {
   "cell_type": "code",
   "execution_count": null,
   "id": "162201a3-fda3-4a48-ba67-80beaa3f119b",
   "metadata": {},
   "outputs": [],
   "source": [
    "sns.kdeplot(data=df,x=df['New EPO dose based on HB post HD'],hue='Grouped interdialytic weight change percentage')\nplt.xlabel('EPO dose (IU/week)')\nplt.xlim(0,24000)"
   ]
  },
  {
   "cell_type": "code",
   "execution_count": null,
   "id": "e792800f-3ea0-444c-bba3-672eb8b4a295",
   "metadata": {},
   "outputs": [],
   "source": [
    "#sns.countplot(x=df['Current Erythropoietin Dose Per Week (IU)'],label='Current EPO dose')\n#sns.countplot(x=df['New EPO dose based on Hb pre HD'],label='Calculated EPO dose pre-HD')\n#sns.countplot(x-df['New EPO dose based on HB post HD'],label='Calculated EPO dose post-HD')"
   ]
  },
  {
   "cell_type": "code",
   "execution_count": null,
   "id": "929ca057-50ef-4b6a-9bdf-87ec369391ec",
   "metadata": {},
   "outputs": [],
   "source": []
  },
  {
   "cell_type": "code",
   "execution_count": null,
   "id": "5d9c4e08-df32-427a-870c-d09fa1a9270e",
   "metadata": {},
   "outputs": [],
   "source": []
  },
  {
   "cell_type": "code",
   "execution_count": null,
   "id": "f6179595-93f9-4b6d-8991-b5ad7e395853",
   "metadata": {},
   "outputs": [],
   "source": [
    "df['Post HD weight/dry weight']  = df['Post-HD Weight (Kgs)']/df['Dry Weight (Kgs)']"
   ]
  },
  {
   "cell_type": "code",
   "execution_count": null,
   "id": "cabe1622-3ed7-4fa7-8808-d4019f3af200",
   "metadata": {},
   "outputs": [],
   "source": [
    "spearmanr(a = df['Post HD weight/dry weight'], b=df[\"Difference in HB Pre and Post Dialysis\"], nan_policy='omit', alternative='two-sided')"
   ]
  },
  {
   "cell_type": "code",
   "execution_count": null,
   "id": "9442b371-e339-4e68-b46d-efaf20c73328",
   "metadata": {},
   "outputs": [],
   "source": [
    "df['Post HD weight/dry weight'].describe()"
   ]
  },
  {
   "cell_type": "code",
   "execution_count": null,
   "id": "5c63002d-2f86-4424-9a8b-aaea6045ac95",
   "metadata": {},
   "outputs": [],
   "source": [
    "test_for_normality('Post HD weight/dry weight')"
   ]
  },
  {
   "cell_type": "code",
   "execution_count": null,
   "id": "6249977a-3b12-461c-822c-9c256d7d317e",
   "metadata": {},
   "outputs": [],
   "source": [
    "sns.boxplot(df['Post HD weight/dry weight'],orient='h')"
   ]
  },
  {
   "cell_type": "code",
   "execution_count": null,
   "id": "e0676ffc-d452-41f9-be71-72acabdc1a2e",
   "metadata": {},
   "outputs": [],
   "source": [
    "#sns.heatmap(data=df.drop(['Sex','Ethnicity','Grouped interdialytic weight change percentage'],axis=1).corr('spearman'))"
   ]
  },
  {
   "cell_type": "code",
   "execution_count": null,
   "id": "2e0d6f58-c813-4bb4-8414-77466ab59e1b",
   "metadata": {},
   "outputs": [],
   "source": []
  },
  {
   "cell_type": "code",
   "execution_count": null,
   "id": "9e6f050e-0851-4242-8f4d-681d3f5a6d30",
   "metadata": {},
   "outputs": [],
   "source": [
    "# <2,5% weight change group, do they differ significantly?\nttest_rel(a=df[df['Grouped interdialytic weight change percentage']=='<2,5']['New EPO dose based on Hb pre HD'],\n          b=df[df['Grouped interdialytic weight change percentage']=='<2,5'][\"New EPO dose based on HB post HD\"],\n          nan_policy='omit',alternative='greater')\n\n"
   ]
  },
  {
   "cell_type": "code",
   "execution_count": null,
   "id": "c9db8cc9-4777-46c5-ac56-bf230af81a47",
   "metadata": {},
   "outputs": [],
   "source": [
    "#  2,5-5,0% weight change group, do they differ significantly?\nttest_rel(a=df[df['Grouped interdialytic weight change percentage']=='2,5-4.9']['New EPO dose based on Hb pre HD'],\n          b=df[df['Grouped interdialytic weight change percentage']=='2,5-4.9'][\"New EPO dose based on HB post HD\"],\n          nan_policy='omit',alternative='greater')"
   ]
  },
  {
   "cell_type": "code",
   "execution_count": null,
   "id": "0fb185b4-968d-4ba7-8001-40fb7aca16c3",
   "metadata": {},
   "outputs": [],
   "source": [
    "#>5% weight change group, do they differ significantly?\nttest_rel(a=df[df['Grouped interdialytic weight change percentage']=='>=5']['New EPO dose based on Hb pre HD'],\n          b=df[df['Grouped interdialytic weight change percentage']=='>=5'][\"New EPO dose based on HB post HD\"],\n          nan_policy='omit',alternative='greater')"
   ]
  },
  {
   "cell_type": "code",
   "execution_count": null,
   "id": "dd132cd6-11ba-4135-9917-573bfd1bb86d",
   "metadata": {},
   "outputs": [],
   "source": [
    "test_for_normality('Difference in Weight (Kgs) Pre and Post Dialysis')"
   ]
  },
  {
   "cell_type": "code",
   "execution_count": null,
   "id": "c97bed9a-7410-472b-9964-234b8632b6b1",
   "metadata": {},
   "outputs": [],
   "source": []
  },
  {
   "cell_type": "code",
   "execution_count": null,
   "id": "1529f7c6-47e7-4f2e-aaa3-13a74a62facd",
   "metadata": {},
   "outputs": [],
   "source": [
    "#df.columns"
   ]
  },
  {
   "cell_type": "code",
   "execution_count": null,
   "id": "59ada93c-dc04-4a5f-8362-96fd2006729c",
   "metadata": {},
   "outputs": [],
   "source": []
  },
  {
   "cell_type": "code",
   "execution_count": null,
   "id": "afaca0a0-097b-423c-ac6c-80445df61151",
   "metadata": {},
   "outputs": [],
   "source": [
    "#df['Grouped interdialytic weight change percentage'].unique()"
   ]
  },
  {
   "cell_type": "code",
   "execution_count": null,
   "id": "7f82be34-ceea-47de-9c76-6d6a159aeacb",
   "metadata": {},
   "outputs": [],
   "source": [
    "def above_thresh(num):\n    if num >= 11.5:\n        return 1\n    else:\n        return 0"
   ]
  },
  {
   "cell_type": "code",
   "execution_count": null,
   "id": "81d56ce6-e6e5-469b-9633-7820f6e87c34",
   "metadata": {},
   "outputs": [],
   "source": [
    "df['>=11.5_pre_HD'] = df['Hb Pre-HD (g/dL)'].apply(above_thresh)"
   ]
  },
  {
   "cell_type": "code",
   "execution_count": null,
   "id": "f45cc22c-75c9-40b0-a2a6-0e572f2b9cad",
   "metadata": {},
   "outputs": [],
   "source": [
    "df['>=11.5_pre_HD'].value_counts()"
   ]
  },
  {
   "cell_type": "code",
   "execution_count": null,
   "id": "5717ab8f-1d47-4c3a-9274-9c0db8e20ac8",
   "metadata": {},
   "outputs": [],
   "source": [
    "df['>=11.5_post_HD'] = df['Hb Post-HD (g/dL)'].apply(above_thresh)\ndf['>=11.5_post_HD'].value_counts()"
   ]
  },
  {
   "cell_type": "code",
   "execution_count": null,
   "id": "0966b719-3e05-47bc-b1e6-c6f34dc623e6",
   "metadata": {},
   "outputs": [],
   "source": [
    "ttest_rel(a=df['>=11.5_pre_HD'],\n          b=df['>=11.5_post_HD'],\n          nan_policy='omit',alternative='less')"
   ]
  },
  {
   "cell_type": "code",
   "execution_count": null,
   "id": "761878da-e2e7-4dae-b773-80ae6e068676",
   "metadata": {},
   "outputs": [],
   "source": []
  },
  {
   "cell_type": "code",
   "execution_count": null,
   "id": "7fb9d249-4abb-4100-b847-b8fd774a3ea0",
   "metadata": {},
   "outputs": [],
   "source": [
    "# the number of patients whose Hb moved from below 10 to normal\ndf[(df['Hb Pre-HD (g/dL)'] <10 ) & (df['Hb Post-HD (g/dL)'] >=10 ) & (df['Hb Post-HD (g/dL)'] <=11.5)] "
   ]
  },
  {
   "cell_type": "code",
   "execution_count": null,
   "id": "65f11f0c",
   "metadata": {},
   "outputs": [],
   "source": [
    "df[(df[\"Hb group pre HD\"] == '<10' ) & (df[\"Hb group post HD\"] == \"10-11.5\")] "
   ]
  },
  {
   "cell_type": "code",
   "execution_count": null,
   "id": "578d10c8-bce0-42b8-89a3-c93fa211400b",
   "metadata": {},
   "outputs": [],
   "source": [
    "len(df[df['Hb Pre-HD (g/dL)'] <10])\n"
   ]
  },
  {
   "cell_type": "code",
   "execution_count": null,
   "id": "4e1081c5-90ee-4b6b-8407-26e2c9e1b906",
   "metadata": {},
   "outputs": [],
   "source": [
    "#normal to high using post HD\ndf[(df['Hb Pre-HD (g/dL)'] >=10 ) & (df['Hb Pre-HD (g/dL)'] <11.5 ) & (df['Hb Post-HD (g/dL)'] >=11.5)]"
   ]
  },
  {
   "cell_type": "code",
   "execution_count": null,
   "id": "25f8eb48",
   "metadata": {},
   "outputs": [],
   "source": [
    "df[(df['Hb group pre HD'] == '10-11.5') & (df['Hb group post HD'] == '>11.5')]\n"
   ]
  },
  {
   "cell_type": "code",
   "execution_count": null,
   "id": "0fdf06b3",
   "metadata": {},
   "outputs": [],
   "source": [
    "len(df[(df['Hb Pre-HD (g/dL)'] >=10 ) & (df['Hb Pre-HD (g/dL)'] <11.5 ) & (df['Hb Post-HD (g/dL)'] >=11.5)])"
   ]
  },
  {
   "cell_type": "code",
   "execution_count": null,
   "id": "7804a317",
   "metadata": {},
   "outputs": [],
   "source": [
    "len(df[df['Hb Post-HD (g/dL)'] <10])"
   ]
  },
  {
   "cell_type": "code",
   "execution_count": null,
   "id": "8b02ad8f",
   "metadata": {},
   "outputs": [],
   "source": [
    "len(df[df['Hb group pre HD'] == \"10-11.5\"])"
   ]
  },
  {
   "cell_type": "code",
   "execution_count": null,
   "id": "79f0f968",
   "metadata": {},
   "outputs": [],
   "source": [
    "5/21"
   ]
  },
  {
   "cell_type": "code",
   "execution_count": null,
   "id": "d16198b3",
   "metadata": {},
   "outputs": [],
   "source": [
    "print(df['Hb group pre HD'].value_counts())\nprint(df['Hb group post HD'].value_counts())\n"
   ]
  },
  {
   "cell_type": "code",
   "execution_count": null,
   "id": "48d5145b",
   "metadata": {},
   "outputs": [],
   "source": [
    "#contingency table for Pre HD Hb>=11.5 compared to Post HD Hb>=11.5. Rows = exposures (post vs pre HD). Columns = outcome (Hb>=11.5 vs Hb<11.5)\ncont_table = np.array(([26, 29],[22, 33]))\nprint(cont_table.sum())\nprint(cont_table[0].sum())\nprint(cont_table[1].sum())\ncont_table\n"
   ]
  },
  {
   "cell_type": "code",
   "execution_count": null,
   "id": "be2f59ee",
   "metadata": {},
   "outputs": [],
   "source": [
    "or_value = (26*33) / (22 * 29)\nprint(or_value)\n"
   ]
  },
  {
   "cell_type": "code",
   "execution_count": null,
   "id": "d1c92668",
   "metadata": {},
   "outputs": [],
   "source": [
    "a,b,c,d = 26,29,22,33\nse = math.sqrt((1/a) + (1/b) + (1/c) + (1/d))\nprint(\"Standard error:\", round(se, 3))"
   ]
  },
  {
   "cell_type": "code",
   "execution_count": null,
   "id": "134d3006",
   "metadata": {},
   "outputs": [],
   "source": [
    "log_or = math.log(or_value)\nci_low = np.exp(log_or - 1.96 * se)\nci_high = np.exp(log_or + 1.96 * se)\n\nprint(f\"95% CI: [{ci_low:.3f}, {ci_high:.3f}]\")"
   ]
  },
  {
   "cell_type": "code",
   "execution_count": null,
   "id": "2ce9a757",
   "metadata": {},
   "outputs": [],
   "source": [
    "chi2, p_value, dof, expected = chi2_contingency(cont_table)\nprint(f\"Chi-square: {chi2:.3f}, p-value: {p_value:.4f}\")\n"
   ]
  },
  {
   "cell_type": "code",
   "execution_count": null,
   "id": "1c299771",
   "metadata": {},
   "outputs": [],
   "source": [
    "\n"
   ]
  },
  {
   "cell_type": "code",
   "execution_count": null,
   "id": "8098044d",
   "metadata": {},
   "outputs": [],
   "source": []
  }
 ],
 "metadata": {
  "kernelspec": {
   "name": "python3",
   "display_name": "Python 3",
   "language": "python"
  },
  "language_info": {
   "name": "python"
  }
 },
 "nbformat": 4,
 "nbformat_minor": 5
}